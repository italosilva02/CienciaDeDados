{
  "nbformat": 4,
  "nbformat_minor": 0,
  "metadata": {
    "colab": {
      "provenance": [],
      "authorship_tag": "ABX9TyMx06EFXvFt/TJSEvlaAFh6",
      "include_colab_link": true
    },
    "kernelspec": {
      "name": "python3",
      "display_name": "Python 3"
    },
    "language_info": {
      "name": "python"
    }
  },
  "cells": [
    {
      "cell_type": "markdown",
      "metadata": {
        "id": "view-in-github",
        "colab_type": "text"
      },
      "source": [
        "<a href=\"https://colab.research.google.com/github/italosilva02/CienciaDeDados/blob/main/Se%C3%A7%C3%A3o_1_Introdu%C3%A7%C3%A3o.ipynb\" target=\"_parent\"><img src=\"https://colab.research.google.com/assets/colab-badge.svg\" alt=\"Open In Colab\"/></a>"
      ]
    },
    {
      "cell_type": "markdown",
      "source": [
        "# **NumPy**"
      ],
      "metadata": {
        "id": "J1BFSpaPKOCs"
      }
    },
    {
      "cell_type": "markdown",
      "source": [
        "O NumPy é uma biblioteca em Python que fornece suporte para cálculos numéricos em larga escala, especialmente em matrizes e vetores multidimensionais. Ela é usada principalmente para processamento de dados científicos e de engenharia, bem como em aprendizado de máquina e análise de dados.\n",
        "\n",
        "A biblioteca NumPy é baseada em uma estrutura de dados denominada ndarray (N-dimensional array) que permite armazenar e manipular grandes conjuntos de dados de forma eficiente. Esses arrays oferecem operações matemáticas e lógicas rápidas e flexíveis, bem como funções para manipulação de dados e cálculos estatísticos.\n",
        "\n",
        "Algumas das principais características do NumPy incluem:\n",
        "\n",
        "- Suporte a operações vetorizadas, que permitem realizar operações matemáticas em grandes conjuntos de dados de forma eficiente;\n",
        "Compatibilidade com outras bibliotecas populares em Python, como Pandas, SciPy e Matplotlib;\n",
        "\n",
        "- Fácil acesso a dados armazenados em arquivos, como CSV, Excel, HDF5, etc.;\n",
        "- Suporte a broadcasting, que permite executar operações entre arrays com formas diferentes;\n",
        "- Possibilidade de criar subconjuntos de arrays usando índices booleanos ou inteiros;\n",
        "- Facilidade para realizar operações matemáticas e estatísticas em arrays, incluindo cálculo de média, desvio padrão, mediana, máximo, mínimo, entre outras.\n",
        "\n",
        "O NumPy é amplamente utilizado em projetos de ciência de dados, aprendizado de máquina, simulações computacionais, processamento de sinais, visualização de dados, entre outros. Ele é uma das bibliotecas mais importantes do ecossistema Python para cálculo científico e é considerado essencial para quem trabalha com análise de dados em Python."
      ],
      "metadata": {
        "id": "b22os-lXKWjf"
      }
    },
    {
      "cell_type": "markdown",
      "source": [
        "- NumPy todos os elementos devem ter os mesmo tipo\n",
        "- NumPy tem tamanho fixo, então precisa ser criada já com um tamanho definido\n",
        "- Objeto de Matriz Dimensional\n",
        "- Velocidade"
      ],
      "metadata": {
        "id": "U9APDUYZK7xJ"
      }
    },
    {
      "cell_type": "code",
      "source": [
        "import numpy as np\n",
        "\n",
        "#cria uma matriz unidimensional\n",
        "\n",
        "a = np.array([12,34,26,18,10])\n",
        "b = np.array([4.540, 5.54, 7.54, 7.65])\n",
        "c = np.array([True, True, False, True, False])\n",
        "print(a)\n",
        "print(b)\n",
        "print(c)\n",
        "print(\"Data Type\")\n",
        "print(f' A - {a.dtype}')\n",
        "print(f' B - {b.dtype}')\n",
        "print(f' C - {c.dtype}')"
      ],
      "metadata": {
        "colab": {
          "base_uri": "https://localhost:8080/"
        },
        "id": "-yvIUAVJLRGM",
        "outputId": "fcba4f04-fabe-47ac-867b-ccdddefd8f6d"
      },
      "execution_count": null,
      "outputs": [
        {
          "output_type": "stream",
          "name": "stdout",
          "text": [
            "[12 34 26 18 10]\n",
            "[4.54 5.54 7.54 7.65]\n",
            "[ True  True False  True False]\n",
            "Data Type\n",
            " A - int64\n",
            " B - float64\n",
            " C - bool\n"
          ]
        }
      ]
    },
    {
      "cell_type": "markdown",
      "source": [
        "# **Pandas**"
      ],
      "metadata": {
        "id": "difiAS7ZMEYs"
      }
    },
    {
      "cell_type": "markdown",
      "source": [
        "O Pandas é uma biblioteca de software livre em Python para manipulação e análise de dados. Ele fornece estruturas de dados de alta performance e fáceis de usar, além de ferramentas para lidar com diferentes tipos de dados, como arquivos CSV, Excel, SQL e outros formatos de dados estruturados e semiestruturados.\n",
        "\n",
        "As principais estruturas de dados fornecidas pelo Pandas são Series e DataFrame. Series é um objeto unidimensional que pode armazenar qualquer tipo de dados, enquanto DataFrame é um objeto bidimensional semelhante a uma tabela que pode armazenar diferentes tipos de dados em cada coluna.\n",
        "\n",
        "Algumas das principais características do Pandas incluem:\n",
        "\n",
        "- Manipulação de dados em larga escala e alta performance: o Pandas é otimizado para lidar com grandes conjuntos de dados e oferece operações de alto desempenho em conjuntos de dados de diferentes tamanhos;\n",
        "- Suporte a diferentes tipos de dados: o Pandas pode lidar com diferentes tipos de dados, como números, strings, datas, horas e outros tipos de dados estruturados e semiestruturados;\n",
        "- Flexibilidade para trabalhar com dados ausentes: o Pandas oferece recursos para lidar com dados ausentes, incluindo preenchimento de valores ausentes, interpolação e exclusão de linhas ou colunas com valores ausentes;\n",
        "- Integração com outras bibliotecas: o Pandas é compatível com outras bibliotecas populares em Python, como NumPy, SciPy e Matplotlib;\n",
        "Possibilidade de fazer consultas em dados e filtrá-los com base em condições: o Pandas oferece recursos para seleção, filtragem e agregação de dados com base em condições específicas;\n",
        "- Facilidade de visualização de dados: o Pandas possui recursos para plotagem de gráficos e visualização de dados que podem ser facilmente personalizados.\n",
        "\n",
        "O Pandas é amplamente utilizado em projetos de ciência de dados, aprendizado de máquina, análise de dados financeiros, análise de dados de negócios e outros domínios que envolvem processamento de grandes conjuntos de dados. Ele é uma das bibliotecas mais importantes do ecossistema Python para manipulação e análise de dados e é considerado essencial para quem trabalha com análise de dados em Python."
      ],
      "metadata": {
        "id": "ZklRquseMHDc"
      }
    },
    {
      "cell_type": "markdown",
      "source": [
        "Pandas tem dois objetos principais.\n",
        "\n",
        "- **Data Frame**: Como se fosse uma tabela no banco de dados\n",
        "- **Pandas**: Como se fosse dados em série. Como se fosse uma coluna"
      ],
      "metadata": {
        "id": "OUFlcDkKMTNf"
      }
    },
    {
      "cell_type": "markdown",
      "source": [
        "# **Módulo e Pacotes**"
      ],
      "metadata": {
        "id": "VOPKuuimMzDz"
      }
    },
    {
      "cell_type": "markdown",
      "source": [
        "- Conjuntos de funcionalidade organizadas em arquivos\n",
        "- Existem vários tipos de pacotes adicionais\n",
        "\n",
        "Para utilizar\n",
        "\n",
        "-import statistcs\n",
        "\n",
        "- x = statistics.mean(x)\n",
        "- z = statistics.mean(z)\n",
        "\n",
        "É muito comum importar com nomes padrões e mais fáceis\n",
        "\n",
        "Podemos importar diretanete somente as funções que vamos utilizar\n",
        "\n",
        "- from statistics import mean, median\n",
        "-mean()\n",
        "-median()\n",
        "\n",
        "ou importar tudo de uma vez\n",
        "\n",
        "- from statistics import *"
      ],
      "metadata": {
        "id": "26uTiElRM1fW"
      }
    },
    {
      "cell_type": "markdown",
      "source": [
        "**Packages**\n",
        "\n",
        "- Permite organizar módulos usando uma notação de pontos\n",
        "- import cienciadados.estatística, cienciadedados.machinelearning"
      ],
      "metadata": {
        "id": "chaw-H2MNlcI"
      }
    },
    {
      "cell_type": "markdown",
      "source": [
        "**Bibliotecas Padrão**\n",
        "\n",
        "- Existem milhares de funções usadas no dia a dia:\n",
        " * Funções Matemáticas\n",
        " * Números aleatórios\n",
        " * Criptografia\n",
        " * Leitura de arquivos\n",
        " * Protocolos de Comunicação\n",
        "\n",
        "Essas funções padrão não é necessário instalar nada. Já vem com em padrão\n",
        "\n",
        "- Para intalar módulos e pacotes\n",
        " * Instalando o pip: (promp de commando)\n",
        " * python -m ensurepip -- default-pip\n",
        "\n",
        " - Instalando um pacote:\n",
        " * pip install numpy"
      ],
      "metadata": {
        "id": "YRiWqjTVN39_"
      }
    }
  ]
}